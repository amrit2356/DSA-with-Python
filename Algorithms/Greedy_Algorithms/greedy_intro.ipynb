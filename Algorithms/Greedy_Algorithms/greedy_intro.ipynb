{
 "cells": [
  {
   "cell_type": "markdown",
   "metadata": {},
   "source": [
    "# Greedy Algorithms\n",
    "Greedy algorithms are a class of algorithms known for making locally optimal choices at each step with the hope of finding a global optimum solution. They are intuitive and easy to implement but may not always produce the most optimal solution. However, they often provide a good approximation for complex optimization problems.\n",
    "\n",
    "Let's start with a simple explanation and then I'll provide a step-by-step Python implementation of a greedy algorithm. Finally, I'll discuss some practical applications.\n",
    "\n",
    "## Explanation:\n",
    "1. **Selection of Greedy Choice:** At each step, the greedy algorithm makes the choice that seems the best at that moment. This choice does not consider future consequences.\n",
    "\n",
    "2. **Feasibility Check:** After making the choice, the algorithm checks if it satisfies the constraints of the problem.\n",
    "\n",
    "3. **Optimization Criterion:** The algorithm optimizes for a specific criterion, such as maximizing or minimizing a value.\n",
    "\n",
    "## Step-by-Step Python Implementation (Example: Coin Change Problem):\n",
    "**Problem Statement:** Given a set of coins and a target amount, find the minimum number of coins required to make up that amount.\n",
    "\n"
   ]
  },
  {
   "cell_type": "code",
   "execution_count": 1,
   "metadata": {},
   "outputs": [
    {
     "name": "stdout",
     "output_type": "stream",
     "text": [
      "Minimum number of coins: 5\n",
      "Coins used: [25, 10, 10, 1, 1]\n"
     ]
    }
   ],
   "source": [
    "def greedy_coin_change(coins, target):\n",
    "    coins.sort(reverse=True)  # Sort coins in descending order\n",
    "    \n",
    "    num_coins = 0\n",
    "    change = []\n",
    "    \n",
    "    for coin in coins:\n",
    "        while target >= coin:\n",
    "            target -= coin\n",
    "            num_coins += 1\n",
    "            change.append(coin)\n",
    "    \n",
    "    return num_coins, change\n",
    "\n",
    "# Example usage:\n",
    "coins = [1, 5, 10, 25]\n",
    "target = 47\n",
    "num_coins, change = greedy_coin_change(coins, target)\n",
    "print(\"Minimum number of coins:\", num_coins)\n",
    "print(\"Coins used:\", change)"
   ]
  },
  {
   "cell_type": "markdown",
   "metadata": {},
   "source": [
    "## Summarization of the Greedy Algorithm:\n",
    "\n",
    "\n",
    "## Space and Time Complexity for Greedy Algorithms:\n",
    "### Space Complexity:\n",
    "The space complexity of a greedy algorithm is typically determined by the space required to store the input data, any auxiliary data structures used by the algorithm, and the space required to store the output. In many cases, greedy algorithms have a space complexity of O(1) or O(n), where n is the size of the input.\n",
    "\n",
    "### Time Complexity:\n",
    "The time complexity of a greedy algorithm depends on the number of steps or iterations required to find the solution. Greedy algorithms often have a time complexity of O(n log n) or O(n), where n is the size of the input.\n",
    "\n",
    "However, it's important to note that the time complexity can vary widely depending on the specific problem and the details of the algorithm. In some cases, greedy algorithms may have a time complexity higher than O(n) due to sorting or other operations.\n",
    "\n",
    "Here are some examples:\n",
    "\n",
    "1. **Greedy Coin Change:** The time complexity of the greedy algorithm for the coin change problem is O(n), where n is the number of coins needed to make up the target amount. The space complexity is also O(n) to store the list of coins used.\n",
    "\n",
    "2. **Dijkstra's Algorithm:** Dijkstra's algorithm, a greedy algorithm for finding the shortest path in a graph, typically has a time complexity of O(V^2) or O(E log V), where V is the number of vertices and E is the number of edges in the graph. The space complexity is O(V) to store the distances from the source vertex to each vertex in the graph.\n",
    "\n",
    "3. **Kruskal's Algorithm:** Kruskal's algorithm for finding the minimum spanning tree of a graph has a time complexity of O(E log V), where V is the number of vertices and E is the number of edges in the graph. The space complexity is O(V + E) to store the graph and the minimum spanning tree.\n",
    "\n"
   ]
  },
  {
   "cell_type": "markdown",
   "metadata": {},
   "source": [
    "## Practical Applications:\n",
    "1. **Minimum Spanning Tree:** Greedy algorithms like Prim's and Kruskal's algorithms are used to find the minimum spanning tree in a graph.\n",
    "\n",
    "2. **Shortest Path Algorithms:** Dijkstra's algorithm, a greedy algorithm, is used to find the shortest path between nodes in a graph.\n",
    "\n",
    "3. **Huffman Encoding:** Huffman encoding is a method used for lossless data compression. It constructs an optimal prefix code based on a set of frequencies of the symbols in the input.\n",
    "\n",
    "4. **Job Scheduling:** In job scheduling problems, where the objective is to minimize the completion time or maximize the number of jobs completed, greedy algorithms like Shortest Job First (SJF) or Earliest Deadline First (EDF) are used.\n",
    "\n",
    "\n",
    "## Important Greedy Algorithm Problems Variations:\n",
    "\n",
    "1. **Coin Change Problem**: Given a set of coin denominations and a target amount, find the minimum number of coins needed to make up the target amount.\n",
    "\n",
    "2. **Activity Selection Problem**: Given a set of activities with start and end times, find the maximum number of activities that can be performed without overlapping.\n",
    "\n",
    "3. **Fractional Knapsack Problem**: Given a set of items with weights and values, and a knapsack capacity, find the maximum value that can be obtained by selecting fractions of items.\n",
    "\n",
    "4. **Huffman Encoding**: Given a set of characters and their frequencies, construct an optimal prefix-free binary encoding for the characters to minimize the total encoding length.\n",
    "\n",
    "5. **Interval Scheduling**: Given a set of intervals, find the maximum number of non-overlapping intervals that can be selected.\n",
    "\n",
    "6. **Minimum Spanning Tree (MST)**: Problems like Kruskal's algorithm or Prim's algorithm for finding the minimum spanning tree of a graph.\n",
    "\n",
    "7. **Shortest Path Algorithms**: Problems like Dijkstra's algorithm or Bellman-Ford algorithm for finding the shortest paths in a graph.\n",
    "\n",
    "8. **Meeting Rooms II**: Given a list of intervals representing the start and end times of meetings, find the minimum number of conference rooms required to schedule all the meetings.\n",
    "\n",
    "9. **Gas Station Problem**: Given a circular route with gas stations at different points and the amount of gas available at each station, find the starting gas station from which you can travel around the route without running out of gas.\n",
    "\n",
    "10. **Assign Cookies**: Given the sizes of children and the sizes of available cookies, find the maximum number of children that can be satisfied with the available cookies.\n",
    "\n",
    "These problems cover a range of concepts and techniques related to greedy algorithms and are often asked in interviews at top tech companies like Microsoft, Amazon, Apple, Netflix, and Google (MAANG).\n"
   ]
  }
 ],
 "metadata": {
  "kernelspec": {
   "display_name": "Python 3",
   "language": "python",
   "name": "python3"
  },
  "language_info": {
   "codemirror_mode": {
    "name": "ipython",
    "version": 3
   },
   "file_extension": ".py",
   "mimetype": "text/x-python",
   "name": "python",
   "nbconvert_exporter": "python",
   "pygments_lexer": "ipython3",
   "version": "3.10.12"
  }
 },
 "nbformat": 4,
 "nbformat_minor": 2
}
