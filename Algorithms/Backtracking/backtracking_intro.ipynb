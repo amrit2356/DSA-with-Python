{
 "cells": [
  {
   "cell_type": "markdown",
   "metadata": {},
   "source": [
    "# BackTracking Algorithm\n",
    "\n",
    "Backtracking is a technique used to solve problems by incrementally building candidates for the solution and abandoning a candidate (\"backtrack\") as soon as it is determined that the candidate cannot possibly be completed to a valid solution. It's a brute-force algorithmic technique that systematically searches for a solution to a computational problem.\n",
    "\n",
    "Here's a step-by-step explanation of how backtracking works:\n",
    "\n",
    "1. **Choose a Starting Point**: Start with an empty solution and begin building it incrementally.\n",
    "\n",
    "2. **Make a Decision**: Make a decision to choose one of the possible candidates for the next extension of the current partial solution.\n",
    "\n",
    "3. **Verify if the Candidate is Valid**: Check if the chosen candidate leads to a valid solution. If it does not, backtrack and try another candidate.\n",
    "\n",
    "4. **If Valid Solution Found, Return**: If the candidate leads to a valid solution, return it. If not, backtrack and try another candidate.\n",
    "\n",
    "5. **Repeat Steps 2-4 Until Solution is Found or All Candidates are Tried**: Keep repeating the process until a valid solution is found or until all possible candidates have been tried.\n",
    "\n"
   ]
  },
  {
   "cell_type": "markdown",
   "metadata": {},
   "source": [
    "## Example: N Queens Problem\n",
    "The N-Queens problem involves placing N chess queens on an N×N chessboard so that no two queens threaten each other. Thus, a solution requires that no two queens share the same row, column, or diagonal."
   ]
  },
  {
   "cell_type": "code",
   "execution_count": 20,
   "metadata": {},
   "outputs": [
    {
     "name": "stdout",
     "output_type": "stream",
     "text": [
      "Solution for 4-Queens Problem:\n",
      "[0, 0, 1, 0]\n",
      "[1, 0, 0, 0]\n",
      "[0, 0, 0, 1]\n",
      "[0, 1, 0, 0]\n"
     ]
    }
   ],
   "source": [
    "def is_safe(board, row, col, n):\n",
    "    # Check if there is a queen in the same row on the left side\n",
    "    for i in range(col):\n",
    "        if board[row][i] == 1:\n",
    "            return False\n",
    "\n",
    "    # Check upper diagonal on the left side\n",
    "    for i, j in zip(range(row, -1, -1), range(col, -1, -1)):\n",
    "        if board[i][j] == 1:\n",
    "            return False\n",
    "\n",
    "    # Check lower diagonal on the left side\n",
    "    for i, j in zip(range(row, n), range(col, -1, -1)):\n",
    "        if board[i][j] == 1:\n",
    "            return False\n",
    "\n",
    "    return True\n",
    "\n",
    "\n",
    "def solve_n_queens_util(board, col, n):\n",
    "    if col >= n:\n",
    "        return True\n",
    "\n",
    "    for i in range(n):\n",
    "        # print(f\"checking coordinate: ({i},{col})\")\n",
    "        if is_safe(board, i, col, n):\n",
    "            board[i][col] = 1\n",
    "   \n",
    "            if solve_n_queens_util(board, col + 1, n):\n",
    "                return True\n",
    "\n",
    "\n",
    "            board[i][col] = 0\n",
    "\n",
    "        # for row in board:\n",
    "        #     print(row)\n",
    "\n",
    "        # print(\"\\t\")\n",
    "\n",
    "    return False\n",
    "\n",
    "\n",
    "def solve_n_queens(n):\n",
    "    board = [[0] * n for _ in range(n)]\n",
    "\n",
    "    if not solve_n_queens_util(board, 0, n):\n",
    "        print(\"Solution does not exist\")\n",
    "        return False\n",
    "\n",
    "    print(\"Solution for {}-Queens Problem:\".format(n))\n",
    "    for row in board:\n",
    "        print(row)\n",
    "\n",
    "\n",
    "# Example usage:\n",
    "n = 4\n",
    "solve_n_queens(n)\n"
   ]
  },
  {
   "cell_type": "markdown",
   "metadata": {},
   "source": [
    "## Summarization of the Backtracking Process:\n",
    "**Safety Conditions Code**:\n",
    "1. No Other Queen in the Same Row to the Left:\n",
    "\n",
    "    - This condition checks if there are any queens already placed in the same row to the left of the current position being considered.\n",
    "    It iterates over the columns to the left of the current column (col) and checks if there's a queen in any of those columns in the same row (board[row][i] == 1).\n",
    "    - No Other Queen in the Upper Diagonal on the Left Side:\n",
    "\n",
    "2. For the upper diagonal, it checks if there are any queens already placed in the diagonally upward direction to the left of the current position.\n",
    "    - It iterates over both rows and columns, moving diagonally upwards to the left from the current position ((row, col)), checking if there's a queen (board[i][j] == 1) in any of those positions.\n",
    "    - No Other Queen in the Lower Diagonal on the Left Side:\n",
    "\n",
    "3. For the lower diagonal, it checks if there are any queens already placed in the diagonally downward direction to the left of the current position.\n",
    "    - Similar to the upper diagonal check, it iterates over both rows and columns, moving diagonally downwards to the left from the current position, checking if there's a queen (board[i][j] == 1) in any of those positions.\n",
    "\n",
    "\n",
    "In simpler terms:\n",
    "- Same Row Check: It ensures there are no queens in the same row to the left, as queens can move horizontally.\n",
    "- Upper Diagonal Check: It ensures there are no queens diagonally upwards to the left, as queens can move diagonally upwards.\n",
    "- Lower Diagonal Check: It ensures there are no queens diagonally downwards to the left, as queens can move diagonally downwards.\n",
    "\n",
    "**Recursive Implementation**:\n",
    "1. Select a starting point to add the queen(1).(In case of N Queen problem, we choose the left most corner).\n",
    "2. Check if all the conditions are met(which they will, since its the first change in the matrix).\n",
    "3. Go to next column, add a queen(1) and check if all safety conditions are met.\n",
    "- False: remove queen(1) and goto next row. \n",
    "- True: add queen(1) in that row.\n",
    "- if queen cannot be placed in all the rows of a column, \"backtrack\" and remove queen from previous column and move to the next row and recheck safety. Keep backtracking till first column.\n",
    "4. Follow step (3) for all columns till all queens can be placed safely.\n"
   ]
  },
  {
   "cell_type": "markdown",
   "metadata": {},
   "source": [
    "## Space and Time Complexity of Backtracking Algorithms:\n",
    "#### Time Complexity:\n",
    "\n",
    "- **Exponential Time Complexity:** Most backtracking algorithms have exponential time complexity in the worst case. Therefore, if you're dealing with a problem where the number of candidate solutions grows exponentially with the size of the problem (e.g., N-Queens, Subset Sum), expect exponential time complexity.\n",
    "\n",
    "- **Branching Factor and Depth:** Analyze the problem to understand the branching factor (the number of choices at each decision point) and the depth of the recursion (typically equal to the size of the problem). If the branching factor is large or the recursion depth is deep, expect longer execution times.\n",
    "\n",
    "\n",
    "#### Space Complexity:\n",
    "- **Linear Space Complexity:** Backtracking algorithms often have linear space complexity in terms of the size of the problem. The space required typically grows linearly with the depth of the recursion.\n",
    "- **Additional Space:** Consider any additional space required to store the current partial solution or any auxiliary data structures used during the backtracking process.\n",
    "\n",
    "\n",
    "#### Rule of Thumb:\n",
    "- **Exponential Time, Linear Space:** As a general rule, expect backtracking algorithms to have exponential time complexity and linear space complexity.\n",
    "- **Practical Performance:** Although the worst-case time and space complexities may be high, in practice, backtracking algorithms can often perform well for moderate problem sizes, especially if effective pruning techniques are applied."
   ]
  },
  {
   "cell_type": "markdown",
   "metadata": {},
   "source": [
    "## Practical Applications:\n",
    "Backtracking algorithms find applications in various domains, including:\n",
    "\n",
    "1. **Puzzle Solving:** Sudoku, Crossword, Cryptarithmetic puzzles.\n",
    "2. **Graph Algorithms:** Finding Hamiltonian Cycles, Coloring Problems.\n",
    "3. **Optimization Problems:** Traveling Salesman Problem, Knapsack Problem.\n",
    "4. **Game Development:** Game solving (e.g., Tic-Tac-Toe), Pathfinding.\n",
    "5. **Natural Language Processing:** Parsing, Grammar Checking.\n"
   ]
  },
  {
   "cell_type": "markdown",
   "metadata": {},
   "source": [
    "## Important Questions to practice Backtracking Algorithm Variations:\n",
    "1. **N-Queens Problem**: Place N queens on an N×N chessboard such that no two queens attack each other.\n",
    "\n",
    "2. **Sudoku Solver**: Solve a Sudoku puzzle by filling the empty cells such that every row, column, and 3x3 subgrid contains all the digits from 1 to 9.\n",
    "\n",
    "3. **Permutations and Combinations**: Generate all permutations or combinations of a given set of elements.\n",
    "\n",
    "4. **Subset Sum Problem**: Given a set of non-negative integers and a target sum, find all unique subsets that sum up to the target.\n",
    "\n",
    "5. **Word Search**: Given a 2D board of characters and a word, determine if the word exists in the grid. The word can be constructed from letters of sequentially adjacent cells, where adjacent cells are horizontally or vertically neighboring.\n",
    "\n",
    "6. **Generate Parentheses**: Given n pairs of parentheses, write a function to generate all combinations of well-formed parentheses.\n",
    "\n",
    "7. **Knight's Tour**: Given a chessboard, find a sequence of moves for the knight to visit every square exactly once.\n",
    "\n",
    "8. **Rat in a Maze**: Given a maze with obstacles, find a path from the top-left corner to the bottom-right corner, moving only right or down.\n",
    "\n",
    "9. **Combination Sum**: Given an array of distinct integers candidates and a target integer target, return a list of all unique combinations of candidates where the chosen numbers sum to target.\n",
    "\n",
    "10. **Letter Combinations of a Phone Number**: Given a string containing digits from 2-9 representing a phone's keypad, return all possible letter combinations that the number could represent.\n",
    "\n",
    "11. **Solve Cryptarithmetic Puzzles**: Given a cryptarithmetic puzzle like SEND + MORE = MONEY, find a valid assignment of digits to letters to satisfy the equation.\n"
   ]
  },
  {
   "cell_type": "markdown",
   "metadata": {},
   "source": [
    "## Code Solutions:\n",
    "### 1. Sudoku Solver\n",
    "1. **Class Definition and Method**:\n",
    "   - The `Solution` class contains a method `solveSudoku` which takes a 9x9 Sudoku board represented as a list of lists of strings (`List[List[str]]`) as input.\n",
    "   - `n` is set to 9, representing the size of the Sudoku board.\n",
    "\n",
    "2. **isValid Function**:\n",
    "   - The `isValid` function checks if it's valid to place the character `ch` at position `(row, col)` on the Sudoku board.\n",
    "   - It checks three conditions:\n",
    "     - No other occurrence of `ch` in the same column.\n",
    "     - No other occurrence of `ch` in the same row.\n",
    "     - No other occurrence of `ch` in the same 3x3 subgrid.\n",
    "\n",
    "3. **solve Function (Backtracking)**:\n",
    "   - The `solve` function is a recursive backtracking function that tries to solve the Sudoku puzzle.\n",
    "   - It starts by considering each cell `(row, col)` on the board.\n",
    "   - If the cell is empty (denoted by `\".\"`), it tries placing digits from 1 to 9 in that cell and recursively solves the rest of the puzzle.\n",
    "   - If placing a digit leads to a valid solution, it returns `True`. Otherwise, it backtracks and tries a different digit.\n",
    "   - If the cell is already filled, it moves to the next cell.\n",
    "   - The function returns `True` if a solution is found, and `False` otherwise.\n",
    "\n",
    "4. **Solving the Sudoku Puzzle**:\n",
    "   - Finally, the `solve` function is called with the starting cell `(0, 0)` to begin the backtracking process and solve the Sudoku puzzle.\n"
   ]
  },
  {
   "cell_type": "code",
   "execution_count": null,
   "metadata": {},
   "outputs": [],
   "source": [
    "from typing import List\n",
    "\n",
    "\n",
    "class Solution:\n",
    "    def solveSudoku(self, board: List[List[str]]) -> None:\n",
    "        \"\"\"\n",
    "        Do not return anything, modify board in-place instead.\n",
    "        \"\"\"\n",
    "\n",
    "        n = 9\n",
    "        def isValid(row, col, ch):\n",
    "            row, col = int(row), int(col)\n",
    "\n",
    "            for i in range(9):\n",
    "                if board[i][col] == ch:\n",
    "                    return False\n",
    "                \n",
    "                if board[row][i] == ch:\n",
    "                    return False\n",
    "\n",
    "                if board[3*(row//3) + i //3][3*(col//3) + i%3] == ch:\n",
    "                    return False\n",
    "\n",
    "            return True\n",
    "\n",
    "        \n",
    "        def solve(row, col):\n",
    "            if row == n:\n",
    "                return True\n",
    "            \n",
    "            if col == n:\n",
    "                return solve(row+1, 0)\n",
    "            \n",
    "            if board[row][col] == \".\":\n",
    "                for i in range(1, 10):\n",
    "                    if isValid(row, col, str(i)):\n",
    "                        board[row][col] = str(i)\n",
    "                    \n",
    "                        if solve(row, col + 1):\n",
    "                            return True\n",
    "\n",
    "                        else:\n",
    "                            board[row][col] = \".\"\n",
    "                return False \n",
    "            \n",
    "            else:\n",
    "                return solve(row, col + 1)\n",
    "        \n",
    "        solve(0, 0)\n"
   ]
  },
  {
   "cell_type": "markdown",
   "metadata": {},
   "source": [
    "### 2. Permutations and Combinations:\n",
    " - Given an array nums of distinct integers, return all the possible permutations. You can return the answer in any order."
   ]
  },
  {
   "cell_type": "code",
   "execution_count": 7,
   "metadata": {},
   "outputs": [
    {
     "name": "stdout",
     "output_type": "stream",
     "text": [
      "[[1, 1, 2], [1, 2, 1], [1, 1, 2], [1, 2, 1], [2, 1, 1], [2, 1, 1]]\n"
     ]
    }
   ],
   "source": [
    "permutations = []\n",
    "nums =[1, 1, 2]\n",
    "\n",
    "def backtrack(start):\n",
    "    if start == len(nums):\n",
    "        permutations.append(nums[:])\n",
    "    \n",
    "    else:\n",
    "        for i in range(start, len(nums)):\n",
    "            nums[start], nums[i] = nums[i], nums[start]\n",
    "            backtrack(start + 1)\n",
    "            nums[start], nums[i] = nums[i], nums[start]\n",
    "\n",
    "\n",
    "backtrack(0)\n",
    "print(permutations)"
   ]
  },
  {
   "cell_type": "markdown",
   "metadata": {},
   "source": [
    "Given an array nums of distinct integers, return all the unique permutations. You can return the answer in any order."
   ]
  },
  {
   "cell_type": "code",
   "execution_count": 9,
   "metadata": {},
   "outputs": [
    {
     "name": "stdout",
     "output_type": "stream",
     "text": [
      "[[1, 1, 2], [1, 2, 1], [2, 1, 1]]\n"
     ]
    }
   ],
   "source": [
    "permutations = []\n",
    "nums = [1, 1, 2]\n",
    "\n",
    "def backtrack(start):\n",
    "\n",
    "    if start == len(nums):\n",
    "        if nums not in permutations:\n",
    "            permutations.append(nums[:])\n",
    "    \n",
    "    else:\n",
    "        for i in range(start, len(nums)):\n",
    "            nums[start], nums[i] = nums[i], nums[start]\n",
    "            backtrack(start + 1)\n",
    "            nums[start], nums[i] = nums[i], nums[start]\n",
    "\n",
    "\n",
    "backtrack(0)\n",
    "print(permutations)"
   ]
  },
  {
   "cell_type": "markdown",
   "metadata": {},
   "source": []
  }
 ],
 "metadata": {
  "kernelspec": {
   "display_name": "Python 3",
   "language": "python",
   "name": "python3"
  },
  "language_info": {
   "codemirror_mode": {
    "name": "ipython",
    "version": 3
   },
   "file_extension": ".py",
   "mimetype": "text/x-python",
   "name": "python",
   "nbconvert_exporter": "python",
   "pygments_lexer": "ipython3",
   "version": "3.10.12"
  }
 },
 "nbformat": 4,
 "nbformat_minor": 2
}
