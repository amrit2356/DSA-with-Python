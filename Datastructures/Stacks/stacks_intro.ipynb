{
 "cells": [
  {
   "cell_type": "markdown",
   "metadata": {},
   "source": [
    "# Stacks\n",
    "A stack is a data structure that follows the **Last In, First Out (LIFO) principle**. This means that the most recently added item is the first to be removed. Stacks are used in various computer science applications, such as function call stacks in programming, undo mechanisms in text editors, and more.\n",
    "\n",
    "\n",
    "### Basic Operations of Stacks:\n",
    "The basic operations on stacks are:\n",
    "\n",
    "1. **Push:** Adds an item to the top of the stack.\n",
    "2. **Pop:** Removes and returns the top item from the stack.\n",
    "3. **Peek:** Returns the top item without removing it.\n",
    "4. **IsEmpty:** Checks if the stack is empty.\n",
    "5. **Size:** Returns the number of items in the stack.\n",
    "\n",
    "## Python Implementation of Stacks:"
   ]
  },
  {
   "cell_type": "code",
   "execution_count": null,
   "metadata": {},
   "outputs": [],
   "source": [
    "\"\"\"STACKS DATA STRUCTURE\"\"\"\n",
    "class Stack:\n",
    "    def __init__(self):\n",
    "        self.items = []  # This is the list that holds the stack items\n",
    "\n",
    "    def push(self, item):\n",
    "        self.items.append(item)  # Adds an item to the top of the stack\n",
    "\n",
    "    def pop(self):\n",
    "        if not self.is_empty():  # Check if stack is not empty\n",
    "            return self.items.pop()  # Removes and returns the last item\n",
    "        else:\n",
    "            raise IndexError(\"Pop from empty stack\")\n",
    "\n",
    "    def peek(self):\n",
    "        if not self.is_empty():  # Check if stack is not empty\n",
    "            return self.items[-1]  # Return the last item without removing it\n",
    "        else:\n",
    "            raise IndexError(\"Peek from empty stack\")\n",
    "\n",
    "    def is_empty(self):\n",
    "        return len(self.items) == 0  # Returns True if stack is empty\n",
    "\n",
    "    def size(self):\n",
    "        return len(self.items)  # Returns the number of items in the stack\n"
   ]
  },
  {
   "cell_type": "markdown",
   "metadata": {},
   "source": [
    "### Code Explanation:\n",
    "- The **Stack** class is initialized with an empty list, self.items, which holds the stack elements.\n",
    "- The **push** method adds an item to the top of the stack.\n",
    "- The **pop** method removes and returns the top item from the stack, raising an error if the stack is empty.\n",
    "- The **peek** method returns the top item without removing it, raising an error if the stack is empty.\n",
    "- The **is_empty** method checks if the stack is empty.\n",
    "- The **size** method returns the number of items in the stack.\n",
    "\n",
    "\n",
    "### Code Operations on Stack:\n",
    "\n",
    "#### 1. **Push Operation:** Adds an item to the stack."
   ]
  },
  {
   "cell_type": "code",
   "execution_count": null,
   "metadata": {},
   "outputs": [],
   "source": [
    "stack = Stack()  # Create a new stack\n",
    "stack.push(10)   # Add item 10 to the stack\n",
    "stack.push(20)   # Add item 20 to the stack"
   ]
  },
  {
   "cell_type": "markdown",
   "metadata": {},
   "source": [
    "#### 2. **Pop Operation:** Removes and returns the top item from the stack."
   ]
  },
  {
   "cell_type": "code",
   "execution_count": null,
   "metadata": {},
   "outputs": [],
   "source": [
    "item = stack.pop()  # Remove and return the top item from the stack\n",
    "print(item)         # Output: 20"
   ]
  },
  {
   "cell_type": "markdown",
   "metadata": {},
   "source": [
    "#### 3. **Peek Operation:** Returns the top item without removing it."
   ]
  },
  {
   "cell_type": "code",
   "execution_count": null,
   "metadata": {},
   "outputs": [],
   "source": [
    "top = stack.peek()  # Get the top item without removing it\n",
    "print(top)          # Output: 10"
   ]
  },
  {
   "cell_type": "markdown",
   "metadata": {},
   "source": [
    "#### 4. **IsEmpty Operation:** Checks if the stack is empty. "
   ]
  },
  {
   "cell_type": "code",
   "execution_count": null,
   "metadata": {},
   "outputs": [],
   "source": [
    "print(stack.size())  # Output: 1"
   ]
  },
  {
   "cell_type": "markdown",
   "metadata": {},
   "source": [
    "## Uses in Practical Applications\n",
    "Stacks are used in various practical applications, including:\n",
    "\n",
    "- **Function Call Stacks:** In programming languages, the stack keeps track of function calls, return addresses, and local variables.\n",
    "- **Expression Parsing:** Stacks are used to evaluate arithmetic expressions and convert expressions from infix to postfix notation.\n",
    "- **Undo Mechanisms:** Applications like text editors use stacks to implement undo and redo functionality.\n",
    "- **Browser Navigation:** Browsers use stacks to implement the \"back\" and \"forward\" navigation features.\n",
    "- **Balanced Parentheses Check:** Stacks can be used to check for balanced parentheses in an expression.\n",
    "\n",
    "\n",
    "## Stack Data Structure Problems for MAANG Interviews\n",
    "\n",
    "## Basic Operations\n",
    "1. **Implement a Stack**: Write a stack class with `push`, `pop`, `peek`, `is_empty`, and `size` methods.\n",
    "\n",
    "## Intermediate Problems\n",
    "2. **Balanced Parentheses**: Check if a given string containing parentheses, brackets, or braces is balanced.\n",
    "3. **Next Greater Element**: Given an array, find the next greater element for each element.\n",
    "4. **Stack Min**: Implement a stack that, in addition to `push` and `pop`, has a function `min` that returns the minimum element in O(1) time.\n",
    "5. **Evaluate Postfix Expression**: Evaluate a given postfix expression (also known as Reverse Polish Notation).\n",
    "6. **Sort a Stack**: Write a function that sorts a stack using another stack.\n",
    "7. **Implement Two Stacks with a Single Array**: Use a single array to implement two stacks.\n",
    "\n",
    "## Advanced Problems\n",
    "8. **Daily Temperatures**: Given a list of daily temperatures, return a list where each index shows the number of days until a warmer temperature.\n",
    "9. **Exclusive Time of Functions**: Given the start and end times of functions, find the exclusive time spent by each function.\n",
    "10. **Largest Rectangle in Histogram**: Given a histogram, find the largest rectangle that can be formed within it.\n",
    "11. **Trapping Rain Water**: Given an array representing elevation heights, calculate how much rainwater can be trapped.\n",
    "12. **Implement a Queue using Two Stacks**: Implement a queue with two stacks to maintain FIFO order.\n",
    "13. **Decode String**: Decode a given encoded string where numbers represent repeat counts and brackets represent nested expressions.\n",
    "14. **Stock Span Problem**: Calculate the stock span for a given list of stock prices.\n",
    "15. **Flatten Nested Lists**: Given a list of nested lists, flatten it into a single list.\n",
    "\n"
   ]
  }
 ],
 "metadata": {
  "kernelspec": {
   "display_name": "Python 3",
   "language": "python",
   "name": "python3"
  },
  "language_info": {
   "name": "python",
   "version": "3.10.12"
  }
 },
 "nbformat": 4,
 "nbformat_minor": 2
}
